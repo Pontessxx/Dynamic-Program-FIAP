{
 "cells": [
  {
   "cell_type": "markdown",
   "metadata": {},
   "source": [
    "# Conteudo do 1 semestre\n",
    "▪ Estruturando Dados\n",
    "</br>\n",
    "▪ Determinando a Necessidade de Estruturação</br>\n",
    "▪ Empilhando e Organizando Dados</br>\n",
    "▪ Ordenando em pilhas</br>\n",
    "▪ Utilizando filas</br>\n",
    "▪ Encontrando dados usando dicionários</br>\n",
    "▪ Trabalhando com Árvores</br>\n",
    "▪ Construindo uma árvore</br>\n",
    "▪ Construindo grafos</br>"
   ]
  },
  {
   "cell_type": "markdown",
   "metadata": {},
   "source": [
    "# <span style=\"color:#087000\"> Busca linear </span>\n",
    "A busca linear é um algoritmo simples de busca em que cada elemento de uma lista é verificado sequencialmente até que o elemento desejado seja encontrado ou até que todos os elementos tenham sido percorridos."
   ]
  },
  {
   "cell_type": "code",
   "execution_count": 2,
   "metadata": {},
   "outputs": [
    {
     "name": "stdout",
     "output_type": "stream",
     "text": [
      "4\n"
     ]
    }
   ],
   "source": [
    "def busca_linear(lista,alvo):\n",
    "\n",
    "    for i in range(len(lista)):\n",
    "\n",
    "        if lista[i] == alvo:\n",
    "            return i\n",
    "        \n",
    "    return None\n",
    "\n",
    "lista = [1,2,3,4,5,6,7,8,9,10]\n",
    "alvo = 5\n",
    "print(busca_linear(lista,alvo))"
   ]
  },
  {
   "cell_type": "markdown",
   "metadata": {},
   "source": [
    "# <span style=\"color:green\">Busca Binária</span>\n",
    "\n",
    "A busca binária é um algoritmo eficiente para encontrar um elemento em uma lista ordenada. Ele divide repetidamente a lista ao meio e verifica se o elemento desejado está na metade superior ou inferior da lista. Esse processo é repetido até que o elemento seja encontrado ou até que não haja mais elementos para verificar.\n",
    "\n",
    "### Detalhes da Busca Binária\n",
    "\n",
    "- A busca binária só funciona em listas ordenadas.\n",
    "- A complexidade de tempo da busca binária é O(log n), onde n é o tamanho da lista.\n",
    "- A busca binária é mais rápida do que a busca linear para listas grandes.\n",
    "- A busca binária é um exemplo de algoritmo de divisão e conquista.\n",
    "\n",
    "##### Exemplo de Busca Binária em Python\n",
    "\n"
   ]
  },
  {
   "cell_type": "code",
   "execution_count": 4,
   "metadata": {},
   "outputs": [],
   "source": [
    "def busca_binaria(meu_array,alvo):\n",
    "    \"\"\"Função que implementa a busca binária em um array ordenado\"\"\"\n",
    "    inicio = 0\n",
    "    fim = len(meu_array) - 1    #definindo o fim do array\n",
    "\n",
    "    while inicio <= fim:\n",
    "        #encontrando o meio do array\n",
    "        meio = (inicio + fim) // 2\n",
    "\n",
    "        if meu_array[meio] == alvo:\n",
    "            #se o elemento escolhido estiver no meio\n",
    "            return meio\n",
    "        \n",
    "        elif meu_array[meio] < alvo:\n",
    "            #se o elemento estiver na metade inferior\n",
    "            inicio = meio + 1\n",
    "\n",
    "        else:\n",
    "            #se o elemento estiver na metade superior\n",
    "            fim = meio - 1\n",
    "    return None"
   ]
  },
  {
   "cell_type": "markdown",
   "metadata": {},
   "source": [
    "# Exercícios\n",
    "Exercício 1: Tuplas\n",
    "</br>a) Crie uma tupla chamada meses contendo os nomes dos meses do ano.\n",
    "</br>b) Imprima o nome do terceiro mês da tupla.\n",
    "</br>c) Imprima os meses do segundo ao quarto.\n",
    "\n"
   ]
  },
  {
   "cell_type": "code",
   "execution_count": 12,
   "metadata": {},
   "outputs": [
    {
     "name": "stdout",
     "output_type": "stream",
     "text": [
      "March\n",
      "('February', 'March', 'April')\n"
     ]
    }
   ],
   "source": [
    "meses = ('January', 'February', 'March', 'April', 'May', 'June', 'July', 'August', 'September', 'October', 'November', 'December')\n",
    "print(meses[2])\n",
    "print(meses[1:4])"
   ]
  },
  {
   "cell_type": "markdown",
   "metadata": {},
   "source": [
    "</br></br>Exercício 2: Listas\n",
    "</br>a) Crie uma lista chamada frutas contendo três frutas de sua escolha.\n",
    "</br>b) Adicione mais duas frutas à lista.\n",
    "</br>c) Remova a segunda fruta da lista."
   ]
  },
  {
   "cell_type": "code",
   "execution_count": 15,
   "metadata": {},
   "outputs": [
    {
     "name": "stdout",
     "output_type": "stream",
     "text": [
      "['banana', 'apple', 'orange', 'mango', 'grape']\n"
     ]
    },
    {
     "data": {
      "text/plain": [
       "['banana', 'orange', 'mango', 'grape']"
      ]
     },
     "execution_count": 15,
     "metadata": {},
     "output_type": "execute_result"
    }
   ],
   "source": [
    "frutas = ['banana', 'apple', 'orange']\n",
    "frutas.append('mango')\n",
    "frutas.append('grape')\n",
    "print(frutas)\n",
    "frutas.pop(1)\n",
    "frutas\n"
   ]
  },
  {
   "cell_type": "markdown",
   "metadata": {},
   "source": [
    "Exercício 3: Adicionando e Removendo Elementos\n",
    "</br>a) Crie uma lista vazia chamada numeros.\n",
    "</br>b) Adicione os números de 1 a 5 à lista.\n",
    "</br>c) Remova o número 3 da lista."
   ]
  },
  {
   "cell_type": "code",
   "execution_count": 20,
   "metadata": {},
   "outputs": [
    {
     "name": "stdout",
     "output_type": "stream",
     "text": [
      "[1, 2, 3, 4, 5, 6]\n",
      "[1, 2, 4, 5, 6]\n"
     ]
    }
   ],
   "source": [
    "num = []\n",
    "for i in range(1,7):\n",
    "    num.append(i)\n",
    "print(num)\n",
    "num.pop(2)\n",
    "print(num)"
   ]
  },
  {
   "cell_type": "markdown",
   "metadata": {},
   "source": [
    "Exercício 4: Concatenação\n",
    "</br>a) Crie duas listas: lista1 contendo os números de 1 a 3 e lista2 contendo osnúmeros de 4 a 6.\n",
    "</br>b) Concatene as duas listas em uma terceira lista chamada lista_concatenada."
   ]
  },
  {
   "cell_type": "code",
   "execution_count": 21,
   "metadata": {},
   "outputs": [
    {
     "name": "stdout",
     "output_type": "stream",
     "text": [
      "[1, 2, 3, 4, 5, 6]\n"
     ]
    }
   ],
   "source": [
    "lista1 = [1,2,3]\n",
    "lista2 = [4,5,6]\n",
    "lista_concatenada = lista1 + lista2\n",
    "print(lista_concatenada)"
   ]
  },
  {
   "cell_type": "markdown",
   "metadata": {},
   "source": [
    "Exercício 5: Fatia\n",
    "</br>a) Crie uma lista chamada numeros contendo os números de 1 a 10.\n",
    "</br>b) Imprima os números do terceiro ao sexto.\n",
    "</br>c) Imprima os números do primeiro ao quinto, saltando de dois em dois."
   ]
  },
  {
   "cell_type": "code",
   "execution_count": 27,
   "metadata": {},
   "outputs": [
    {
     "name": "stdout",
     "output_type": "stream",
     "text": [
      "[3, 4, 5, 6]\n",
      "[1, 3, 5]\n"
     ]
    }
   ],
   "source": [
    "num = [1,2,3,4,5,6,7,8,9,10]\n",
    "print(num[2:6])\n",
    "print(num[0:5:2])\n"
   ]
  },
  {
   "cell_type": "code",
   "execution_count": null,
   "metadata": {},
   "outputs": [],
   "source": []
  }
 ],
 "metadata": {
  "kernelspec": {
   "display_name": "Python 3",
   "language": "python",
   "name": "python3"
  },
  "language_info": {
   "codemirror_mode": {
    "name": "ipython",
    "version": 3
   },
   "file_extension": ".py",
   "mimetype": "text/x-python",
   "name": "python",
   "nbconvert_exporter": "python",
   "pygments_lexer": "ipython3",
   "version": "3.11.3"
  }
 },
 "nbformat": 4,
 "nbformat_minor": 2
}
